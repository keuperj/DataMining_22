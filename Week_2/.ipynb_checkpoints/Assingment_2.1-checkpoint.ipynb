{
 "cells": [
  {
   "cell_type": "markdown",
   "metadata": {},
   "source": [
    "# Assignment 2.1\n",
    "### Scrape and Analyse\n",
    "\n",
    "* API [https://beautiful-soup-4.readthedocs.io/en/latest/](https://beautiful-soup-4.readthedocs.io/en/latest/)"
   ]
  },
  {
   "cell_type": "code",
   "execution_count": null,
   "metadata": {},
   "outputs": [],
   "source": [
    "import pandas as pd\n",
    "import requests\n",
    "from bs4 import BeautifulSoup"
   ]
  },
  {
   "cell_type": "markdown",
   "metadata": {},
   "source": [
    "### Tasks\n",
    "Scrape data from the website [http://www.nationmaster.com](http://www.nationmaster.com/), convert it into Pandas data frames and use pandas queries to answer the following questions: "
   ]
  },
  {
   "cell_type": "markdown",
   "metadata": {},
   "source": [
    "#### 1\n",
    "Get the number of internet users per country, remove all NaN entries and return the top 10 countries with the highest absolute number of internet users. "
   ]
  },
  {
   "cell_type": "code",
   "execution_count": null,
   "metadata": {},
   "outputs": [],
   "source": []
  },
  {
   "cell_type": "markdown",
   "metadata": {},
   "source": [
    "#### 2\n",
    "Get the number of internet users per country, remove all NaN entries and return the top 10 countries with the highest number of internet users relative to the populutation. Hint: you need to scrape the population number from another page)"
   ]
  },
  {
   "cell_type": "code",
   "execution_count": null,
   "metadata": {},
   "outputs": [],
   "source": []
  },
  {
   "cell_type": "markdown",
   "metadata": {},
   "source": [
    "#### 3\n",
    "Compute the correlation between the crime rate (murders per 100k) and the education level. Compare this to the correlation of crime rate and poverty (relative BIP). Hint: use pandas build in correlation function: [https://pandas.pydata.org/docs/reference/api/pandas.DataFrame.corr.html](https://pandas.pydata.org/docs/reference/api/pandas.DataFrame.corr.html)"
   ]
  },
  {
   "cell_type": "code",
   "execution_count": null,
   "metadata": {},
   "outputs": [],
   "source": []
  },
  {
   "cell_type": "markdown",
   "metadata": {},
   "source": [
    "### REST API\n",
    "#### Using data from [https://www.energidataservice.dk](https://www.energidataservice.dk) "
   ]
  },
  {
   "cell_type": "code",
   "execution_count": 9,
   "metadata": {},
   "outputs": [],
   "source": [
    "import pandas as pd\n",
    "import requests\n",
    "from pandas.io.json import json_normalize"
   ]
  },
  {
   "cell_type": "code",
   "execution_count": 22,
   "metadata": {
    "scrolled": true
   },
   "outputs": [
    {
     "data": {
      "text/html": [
       "<div>\n",
       "<style scoped>\n",
       "    .dataframe tbody tr th:only-of-type {\n",
       "        vertical-align: middle;\n",
       "    }\n",
       "\n",
       "    .dataframe tbody tr th {\n",
       "        vertical-align: top;\n",
       "    }\n",
       "\n",
       "    .dataframe thead th {\n",
       "        text-align: right;\n",
       "    }\n",
       "</style>\n",
       "<table border=\"1\" class=\"dataframe\">\n",
       "  <thead>\n",
       "    <tr style=\"text-align: right;\">\n",
       "      <th></th>\n",
       "      <th>_id</th>\n",
       "      <th>HourUTC</th>\n",
       "      <th>HourDK</th>\n",
       "      <th>PriceArea</th>\n",
       "      <th>SpotPurchase</th>\n",
       "      <th>SpotSale</th>\n",
       "      <th>SpotPriceDKK</th>\n",
       "      <th>ElbasAveragePriceDKK</th>\n",
       "      <th>ElbasMaxPriceDKK</th>\n",
       "      <th>ElbasMinPriceDKK</th>\n",
       "      <th>SpotPriceEUR</th>\n",
       "      <th>ElbasAveragePriceEUR</th>\n",
       "      <th>ElbasMaxPriceEUR</th>\n",
       "      <th>ElbasMinPriceEUR</th>\n",
       "    </tr>\n",
       "  </thead>\n",
       "  <tbody>\n",
       "    <tr>\n",
       "      <th>0</th>\n",
       "      <td>123773</td>\n",
       "      <td>2016-12-31T23:00:00+00:00</td>\n",
       "      <td>2017-01-01T00:00:00</td>\n",
       "      <td>DK2</td>\n",
       "      <td>1080.3</td>\n",
       "      <td>1191.3</td>\n",
       "      <td>155.82</td>\n",
       "      <td>163.428750</td>\n",
       "      <td>173.87625</td>\n",
       "      <td>149.25000</td>\n",
       "      <td>20.96</td>\n",
       "      <td>21.90</td>\n",
       "      <td>23.3</td>\n",
       "      <td>20.0</td>\n",
       "    </tr>\n",
       "    <tr>\n",
       "      <th>1</th>\n",
       "      <td>123774</td>\n",
       "      <td>2017-01-01T00:00:00+00:00</td>\n",
       "      <td>2017-01-01T01:00:00</td>\n",
       "      <td>DK2</td>\n",
       "      <td>1027.5</td>\n",
       "      <td>1188.8</td>\n",
       "      <td>155.37</td>\n",
       "      <td>159.473625</td>\n",
       "      <td>180.59250</td>\n",
       "      <td>143.28000</td>\n",
       "      <td>20.90</td>\n",
       "      <td>21.37</td>\n",
       "      <td>24.2</td>\n",
       "      <td>19.2</td>\n",
       "    </tr>\n",
       "    <tr>\n",
       "      <th>2</th>\n",
       "      <td>123775</td>\n",
       "      <td>2017-01-01T01:00:00+00:00</td>\n",
       "      <td>2017-01-01T02:00:00</td>\n",
       "      <td>DK2</td>\n",
       "      <td>963.6</td>\n",
       "      <td>1174.6</td>\n",
       "      <td>134.78</td>\n",
       "      <td>111.191250</td>\n",
       "      <td>179.10000</td>\n",
       "      <td>74.62500</td>\n",
       "      <td>18.13</td>\n",
       "      <td>14.90</td>\n",
       "      <td>24.0</td>\n",
       "      <td>10.0</td>\n",
       "    </tr>\n",
       "    <tr>\n",
       "      <th>3</th>\n",
       "      <td>123776</td>\n",
       "      <td>2017-01-01T02:00:00+00:00</td>\n",
       "      <td>2017-01-01T03:00:00</td>\n",
       "      <td>DK2</td>\n",
       "      <td>917.6</td>\n",
       "      <td>1145.3</td>\n",
       "      <td>119.17</td>\n",
       "      <td>157.533375</td>\n",
       "      <td>186.56250</td>\n",
       "      <td>134.32500</td>\n",
       "      <td>16.03</td>\n",
       "      <td>21.11</td>\n",
       "      <td>25.0</td>\n",
       "      <td>18.0</td>\n",
       "    </tr>\n",
       "    <tr>\n",
       "      <th>4</th>\n",
       "      <td>123777</td>\n",
       "      <td>2017-01-01T03:00:00+00:00</td>\n",
       "      <td>2017-01-01T04:00:00</td>\n",
       "      <td>DK2</td>\n",
       "      <td>883.6</td>\n",
       "      <td>1183.0</td>\n",
       "      <td>122.14</td>\n",
       "      <td>216.337875</td>\n",
       "      <td>216.41250</td>\n",
       "      <td>215.66625</td>\n",
       "      <td>16.43</td>\n",
       "      <td>28.99</td>\n",
       "      <td>29.0</td>\n",
       "      <td>28.9</td>\n",
       "    </tr>\n",
       "  </tbody>\n",
       "</table>\n",
       "</div>"
      ],
      "text/plain": [
       "      _id                    HourUTC               HourDK PriceArea  \\\n",
       "0  123773  2016-12-31T23:00:00+00:00  2017-01-01T00:00:00       DK2   \n",
       "1  123774  2017-01-01T00:00:00+00:00  2017-01-01T01:00:00       DK2   \n",
       "2  123775  2017-01-01T01:00:00+00:00  2017-01-01T02:00:00       DK2   \n",
       "3  123776  2017-01-01T02:00:00+00:00  2017-01-01T03:00:00       DK2   \n",
       "4  123777  2017-01-01T03:00:00+00:00  2017-01-01T04:00:00       DK2   \n",
       "\n",
       "   SpotPurchase  SpotSale  SpotPriceDKK  ElbasAveragePriceDKK  \\\n",
       "0        1080.3    1191.3        155.82            163.428750   \n",
       "1        1027.5    1188.8        155.37            159.473625   \n",
       "2         963.6    1174.6        134.78            111.191250   \n",
       "3         917.6    1145.3        119.17            157.533375   \n",
       "4         883.6    1183.0        122.14            216.337875   \n",
       "\n",
       "   ElbasMaxPriceDKK  ElbasMinPriceDKK  SpotPriceEUR  ElbasAveragePriceEUR  \\\n",
       "0         173.87625         149.25000         20.96                 21.90   \n",
       "1         180.59250         143.28000         20.90                 21.37   \n",
       "2         179.10000          74.62500         18.13                 14.90   \n",
       "3         186.56250         134.32500         16.03                 21.11   \n",
       "4         216.41250         215.66625         16.43                 28.99   \n",
       "\n",
       "   ElbasMaxPriceEUR  ElbasMinPriceEUR  \n",
       "0              23.3              20.0  \n",
       "1              24.2              19.2  \n",
       "2              24.0              10.0  \n",
       "3              25.0              18.0  \n",
       "4              29.0              28.9  "
      ]
     },
     "execution_count": 22,
     "metadata": {},
     "output_type": "execute_result"
    }
   ],
   "source": [
    "#get data from an open energy data service provider\n",
    "url = 'https://www.energidataservice.dk/proxy/api/datastore_search?resource_id=nordpoolmarket&limit=500'\n",
    "\n",
    "response = requests.get(url)\n",
    "dictr = response.json() #parse json to dict\n",
    "recs = dictr['result']['records'] \n",
    "df = json_normalize(recs) #flatten json files into data frame\n",
    "df.head()"
   ]
  },
  {
   "cell_type": "markdown",
   "metadata": {},
   "source": [
    "#### 4\n",
    "Compute overview statistics (mean, variance, quantiles, counts,...) for all variables. Hint: there is a single pandas call to get this ..."
   ]
  },
  {
   "cell_type": "code",
   "execution_count": null,
   "metadata": {},
   "outputs": [],
   "source": []
  },
  {
   "cell_type": "markdown",
   "metadata": {},
   "source": [
    "#### 5 \n",
    "Compute the average ***SpotSale*** by each day. "
   ]
  },
  {
   "cell_type": "code",
   "execution_count": null,
   "metadata": {},
   "outputs": [],
   "source": []
  },
  {
   "cell_type": "markdown",
   "metadata": {},
   "source": [
    "#### 6 \n",
    "Compute the day with the highest variance in ***SpotPurchase***"
   ]
  },
  {
   "cell_type": "code",
   "execution_count": null,
   "metadata": {},
   "outputs": [],
   "source": []
  }
 ],
 "metadata": {
  "kernelspec": {
   "display_name": "Python 3",
   "language": "python",
   "name": "python3"
  },
  "language_info": {
   "codemirror_mode": {
    "name": "ipython",
    "version": 3
   },
   "file_extension": ".py",
   "mimetype": "text/x-python",
   "name": "python",
   "nbconvert_exporter": "python",
   "pygments_lexer": "ipython3",
   "version": "3.7.6"
  }
 },
 "nbformat": 4,
 "nbformat_minor": 4
}

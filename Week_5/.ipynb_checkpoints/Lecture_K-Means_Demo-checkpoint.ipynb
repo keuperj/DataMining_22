{
 "cells": [
  {
   "cell_type": "markdown",
   "metadata": {},
   "source": [
    "# Demo: K-Means with Scikit Learn\n",
    "<img src=\"IMG/sk-logo.png\" width=200>\n",
    "\n",
    "* ***SkLearn*** Clustering Algorithms: https://scikit-learn.org/stable/modules/clustering.html#clustering"
   ]
  },
  {
   "cell_type": "code",
   "execution_count": null,
   "metadata": {},
   "outputs": [],
   "source": [
    "#setup env\n",
    "import time\n",
    "import warnings\n",
    "import numpy as np\n",
    "import matplotlib.pyplot as plt\n",
    "%matplotlib inline\n",
    "from sklearn import cluster, datasets, mixture\n"
   ]
  },
  {
   "cell_type": "code",
   "execution_count": null,
   "metadata": {},
   "outputs": [],
   "source": [
    "#helper calls\n",
    "n_samples = 1500\n",
    "random_state = 170\n",
    "X, y = datasets.make_blobs(n_samples=n_samples, random_state=random_state)\n",
    "transformation = [[0.6, -0.6], [-0.4, 0.8]]\n",
    "X_aniso = np.dot(X, transformation)\n",
    "\n",
    "#generating Data Sets A-F using build in data generators\n",
    "A = datasets.make_circles(n_samples=n_samples, factor=.5,noise=.05)[0]\n",
    "B = datasets.make_moons(n_samples=n_samples, noise=.05)[0]\n",
    "C = datasets.make_blobs(n_samples=n_samples, random_state=8)[0]\n",
    "D = np.random.rand(n_samples, 2)\n",
    "E = (X_aniso, y)[0]\n",
    "F = datasets.make_blobs(n_samples=n_samples,\n",
    "                             cluster_std=[1.0, 2.5, 0.5],\n",
    "                             random_state=random_state)[0]"
   ]
  },
  {
   "cell_type": "markdown",
   "metadata": {},
   "source": [
    "## Plot Data"
   ]
  },
  {
   "cell_type": "code",
   "execution_count": null,
   "metadata": {},
   "outputs": [],
   "source": [
    "fig, axes = plt.subplots(2, 3,figsize=(9,6))\n",
    "axes[0, 0].scatter(A[:,0], A[:,1])\n",
    "axes[0, 1].scatter(B[:,0], B[:,1])\n",
    "axes[0, 2].scatter(C[:,0], C[:,1])\n",
    "axes[1, 0].scatter(D[:,0], D[:,1])\n",
    "axes[1, 1].scatter(E[:,0], E[:,1])\n",
    "axes[1, 2].scatter(F[:,0], F[:,1])"
   ]
  },
  {
   "cell_type": "markdown",
   "metadata": {},
   "source": [
    "## K-Means Demo\n",
    "Perform ```K-Means``` clustering on all data sets: https://scikit-learn.org/stable/modules/clustering.html#k-means"
   ]
  },
  {
   "cell_type": "code",
   "execution_count": null,
   "metadata": {},
   "outputs": [],
   "source": [
    "from sklearn.cluster import KMeans\n",
    "kmeansA = KMeans(n_clusters=2, random_state=0).fit(A) #train for given k\n",
    "kmeansB = KMeans(n_clusters=2, random_state=0).fit(B)\n",
    "kmeansC = KMeans(n_clusters=3, random_state=0).fit(C)\n",
    "kmeansD = KMeans(n_clusters=2, random_state=0).fit(D)\n",
    "kmeansE = KMeans(n_clusters=3, random_state=0).fit(E)\n",
    "kmeansF = KMeans(n_clusters=3, random_state=0).fit(F)\n",
    "\n",
    "#plot again, now with lable coloring\n",
    "fig, axes = plt.subplots(2, 3,figsize=(9,6))\n",
    "axes[0, 0].scatter(A[:,0], A[:,1], c=kmeansA.labels_) #get labels and use as color\n",
    "axes[0, 1].scatter(B[:,0], B[:,1], c=kmeansB.labels_)\n",
    "axes[0, 2].scatter(C[:,0], C[:,1], c=kmeansC.labels_)\n",
    "axes[1, 0].scatter(D[:,0], D[:,1], c=kmeansD.labels_)\n",
    "axes[1, 1].scatter(E[:,0], E[:,1], c=kmeansE.labels_)\n",
    "axes[1, 2].scatter(F[:,0], F[:,1], c=kmeansF.labels_)"
   ]
  },
  {
   "cell_type": "markdown",
   "metadata": {},
   "source": [
    "## Score Clustering\n",
    "Compare the results by the mean ```Silhouette Coefficient``` for each data set.\n",
    "\n",
    "Hint: https://scikit-learn.org/stable/modules/generated/sklearn.metrics.silhouette_score.html#sklearn.metrics.silhouette_score"
   ]
  },
  {
   "cell_type": "code",
   "execution_count": null,
   "metadata": {},
   "outputs": [],
   "source": [
    "from sklearn.metrics import silhouette_score"
   ]
  },
  {
   "cell_type": "code",
   "execution_count": null,
   "metadata": {},
   "outputs": [],
   "source": [
    "#sample results for DataSet C\n",
    "silhouette_score(C,kmeansC.labels_)"
   ]
  },
  {
   "cell_type": "code",
   "execution_count": null,
   "metadata": {},
   "outputs": [],
   "source": []
  }
 ],
 "metadata": {
  "kernelspec": {
   "display_name": "Python 3",
   "language": "python",
   "name": "python3"
  },
  "language_info": {
   "codemirror_mode": {
    "name": "ipython",
    "version": 3
   },
   "file_extension": ".py",
   "mimetype": "text/x-python",
   "name": "python",
   "nbconvert_exporter": "python",
   "pygments_lexer": "ipython3",
   "version": "3.7.6"
  }
 },
 "nbformat": 4,
 "nbformat_minor": 2
}

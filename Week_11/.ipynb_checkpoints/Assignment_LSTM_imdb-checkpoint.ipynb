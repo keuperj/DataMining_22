{
 "cells": [
  {
   "cell_type": "markdown",
   "metadata": {
    "id": "l5NSgiI7t96l"
   },
   "source": [
    "# Assignment review sentiment classification with LSTM \n",
    "\n",
    "We use a [data set of annotated move reviews](https://ai.stanford.edu/~amaas/data/sentiment/) from [IMDB](https://www.imdb.com/) to predict the sentiment of a text review. "
   ]
  },
  {
   "cell_type": "markdown",
   "metadata": {
    "id": "_9a9CfE-t96s"
   },
   "source": [
    "## Setup"
   ]
  },
  {
   "cell_type": "code",
   "execution_count": null,
   "metadata": {
    "id": "rP2uWp2Tt96t"
   },
   "outputs": [],
   "source": [
    "import numpy as np\n",
    "from tensorflow import keras\n",
    "from tensorflow.keras import layers\n",
    "\n",
    "max_features = 20000  # Only consider the top 20k words - you can change this\n",
    "maxlen = 200  # Only consider the first 200 words of each movie review - you can cahge this\n"
   ]
  },
  {
   "cell_type": "markdown",
   "metadata": {
    "id": "jt7ceDQ4t96y"
   },
   "source": [
    "## Load the IMDB movie review sentiment data"
   ]
  },
  {
   "cell_type": "code",
   "execution_count": null,
   "metadata": {
    "id": "RAfvoJpzt96z"
   },
   "outputs": [],
   "source": [
    "(x_train, y_train), (x_val, y_val) = keras.datasets.imdb.load_data(\n",
    "    num_words=max_features\n",
    ")\n",
    "print(len(x_train), \"Training sequences\")\n",
    "print(len(x_val), \"Validation sequences\")\n",
    "x_train = keras.preprocessing.sequence.pad_sequences(x_train, maxlen=maxlen)\n",
    "x_val = keras.preprocessing.sequence.pad_sequences(x_val, maxlen=maxlen)\n"
   ]
  },
  {
   "cell_type": "code",
   "execution_count": null,
   "metadata": {},
   "outputs": [],
   "source": []
  }
 ],
 "metadata": {
  "colab": {
   "collapsed_sections": [],
   "name": "bidirectional_lstm_imdb",
   "provenance": [],
   "toc_visible": true
  },
  "kernelspec": {
   "display_name": "Python 3",
   "language": "python",
   "name": "python3"
  },
  "language_info": {
   "codemirror_mode": {
    "name": "ipython",
    "version": 3
   },
   "file_extension": ".py",
   "mimetype": "text/x-python",
   "name": "python",
   "nbconvert_exporter": "python",
   "pygments_lexer": "ipython3",
   "version": "3.7.6"
  }
 },
 "nbformat": 4,
 "nbformat_minor": 4
}
